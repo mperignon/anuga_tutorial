{
 "cells": [
  {
   "cell_type": "code",
   "execution_count": 10,
   "metadata": {
    "collapsed": false,
    "deletable": true,
    "editable": true
   },
   "outputs": [
    {
     "name": "stdout",
     "output_type": "stream",
     "text": [
      "Reading METADATA from data/raster.prj\n",
      "Reading DEM from data/raster.asc\n",
      "Got 292 lines\n",
      "Store to NetCDF file data/raster.dem\n",
      "Reading DEM from data/raster.dem\n",
      "Store to NetCDF file data/raster.pts\n",
      "There are 80652 values in the elevation\n",
      "There are 80652 values in the clipped elevation\n",
      "There are 37882 NODATA_values in the clipped elevation\n",
      "Generating mesh to file 'data/raster.msh'\n",
      "Number of triangles =  5270\n",
      "The extent is  (0.0, 1126.0, 0.0, 1144.0)\n",
      "------------------------------------------------\n",
      "Mesh statistics:\n",
      "  Number of triangles = 5270\n",
      "  Extent [m]:\n",
      "    x in [0.00000e+00, 1.12600e+03]\n",
      "    y in [0.00000e+00, 1.14400e+03]\n",
      "  Areas [m^2]:\n",
      "    A in [6.63213e+01, 1.99990e+02]\n",
      "    number of distinct areas: 5270\n",
      "    Histogram:\n",
      "      [6.63213e+01, 7.96882e+01[: 65\n",
      "      [7.96882e+01, 9.30550e+01[: 449\n",
      "      [9.30550e+01, 1.06422e+02[: 891\n",
      "      [1.06422e+02, 1.19789e+02[: 908\n",
      "      [1.19789e+02, 1.33156e+02[: 829\n",
      "      [1.33156e+02, 1.46523e+02[: 729\n",
      "      [1.46523e+02, 1.59889e+02[: 541\n",
      "      [1.59889e+02, 1.73256e+02[: 413\n",
      "      [1.73256e+02, 1.86623e+02[: 269\n",
      "      [1.86623e+02, 1.99990e+02]: 176\n",
      "    Percentiles (10 percent):\n",
      "      527 triangles in [6.63213e+01, 9.32177e+01]\n",
      "      527 triangles in [9.32177e+01, 1.01371e+02]\n",
      "      527 triangles in [1.01371e+02, 1.09085e+02]\n",
      "      527 triangles in [1.09085e+02, 1.16670e+02]\n",
      "      527 triangles in [1.16670e+02, 1.25008e+02]\n",
      "      527 triangles in [1.25008e+02, 1.33585e+02]\n",
      "      527 triangles in [1.33585e+02, 1.43043e+02]\n",
      "      527 triangles in [1.43043e+02, 1.54843e+02]\n",
      "      527 triangles in [1.54843e+02, 1.69813e+02]\n",
      "      527 triangles in [1.69813e+02, 1.99990e+02]\n",
      "  Boundary:\n",
      "    Number of boundary segments == 174\n",
      "    Boundary tags == ['bottom', 'top', 'side4', 'side2', 'side3', 'side1']\n",
      "------------------------------------------------\n",
      "\n",
      "FitInterpolate: Building quad tree\n",
      "Building smoothing matrix\n",
      "Fit.fit: Initializing\n",
      "Geospatial_data: Created from file: data/raster.pts\n",
      "Data will be loaded blockwise on demand\n",
      "Got 1 variables: [u'elevation']\n",
      "WARNING: False easting of 0.000000 specified.\n",
      "Default false easting is 500000.000000.\n",
      "ANUGA does not correct for differences in False Eastings.\n",
      "WARNING: Datum of NAD83 specified.\n",
      "Default Datum is wgs84.\n",
      "ANUGA does not correct for differences in datums.\n",
      "WARNING: Units of METERS specified.\n",
      "Default units is m.\n",
      "ANUGA does not correct for differences in units.\n",
      "Geospatial_data: Reading 42770 points (in 1 block(s)) from file data/raster.pts. \n",
      "Geospatial_data: Each block consists of 50000000 data points\n",
      "\n",
      "Geospatial_data: Reading block 0 (points 0 to 42770) out of 0\n",
      "\b. \n",
      "Fit.fit: Warning: no data points in fit\n",
      "Applying fitted data to domain\n"
     ]
    }
   ],
   "source": [
    "import sys\n",
    "default_stdout = sys.stdout\n",
    "default_stderr = sys.stderr\n",
    "\n",
    "import matplotlib.pyplot as plt\n",
    "%matplotlib inline\n",
    "import numpy as np\n",
    "\n",
    "import anuga\n",
    "from anuga import rectangular_cross\n",
    "from anuga import Domain\n",
    "from anuga import Dirichlet_boundary, Reflective_boundary\n",
    "\n",
    "reload(sys)\n",
    "sys.stdout = default_stdout\n",
    "sys.stderr = default_stderr\n",
    "\n",
    "#===============================================================================\n",
    "# Setup Functions\n",
    "#===============================================================================\n",
    "\n",
    "filename_root = 'data/raster'\n",
    "\n",
    "# Convert an elevation raster into a point file\n",
    "anuga.asc2dem(filename_root + '.asc', use_cache = False, verbose = True)\n",
    "anuga.dem2pts(filename_root + '.dem', use_cache = False, verbose = True)\n",
    "\n",
    "\n",
    "\"\"\"\n",
    "Include the process-specific quantities when creating the domain\n",
    "\"\"\"        \n",
    "\n",
    "# import bounding polygon text file, set boundary tags\n",
    "bounding_polygon = anuga.read_polygon('data/outline.csv')\n",
    "boundary_tags = {'bottom':[0],\n",
    "                  'side1':[1],\n",
    "                  'side2':[2],\n",
    "                    'top':[3],\n",
    "                  'side3':[4],\n",
    "                  'side4':[5]}\n",
    "\n",
    "\"\"\"\n",
    "Create the domain\n",
    "\"\"\"\n",
    "evolved_quantities =  ['stage', 'xmomentum', 'ymomentum', 'concentration']\n",
    "\n",
    "\n",
    "anuga.pmesh.mesh_interface.create_mesh_from_regions(bounding_polygon = bounding_polygon,\n",
    "                                                     boundary_tags = boundary_tags,\n",
    "                                                     maximum_triangle_area = 200,\n",
    "                                                     filename = filename_root + '.msh')\n",
    "\n",
    "\n",
    "domain = Domain(filename_root + '.msh', evolved_quantities = evolved_quantities)\n",
    "\n",
    "\n",
    "#------------------------------------------------------------------------------\n",
    "# Setup parameters of computational domain\n",
    "#------------------------------------------------------------------------------\n",
    "\n",
    "# Print some stats about mesh and domain\n",
    "print 'Number of triangles = ', len(domain)\n",
    "print 'The extent is ', domain.get_extent()\n",
    "print domain.statistics()\n",
    "\n",
    "\n",
    "domain.set_quantity('elevation', \n",
    "                    filename = filename_root + '.pts',\n",
    "                    use_cache = False,\n",
    "                    verbose = True,\n",
    "                    alpha = 0.1)\n",
    "                    \n",
    "\n",
    "domain.set_flow_algorithm('DE0')\n",
    "domain.set_name('operators') # Output name\n",
    "domain.set_quantity('stage', expression='elevation')   # Dry initial condition\n",
    "\n",
    "\n",
    "\"\"\"\n",
    "Store process-specific quantities with same functions\n",
    "\"\"\" \n",
    "domain.set_quantities_to_be_stored({'elevation': 2,\n",
    "                                    'stage': 2,\n",
    "                                    'xmomentum': 2,\n",
    "                                    'ymomentum': 2,\n",
    "                                    'concentration': 2})\n",
    "                                    \n",
    "#------------------------------------------------------------------------------\n",
    "# Setup boundary conditions\n",
    "#------------------------------------------------------------------------------\n",
    "min_elev = domain.quantities['elevation'].vertex_values.min()\n",
    "\n",
    "Bd = Dirichlet_boundary([1528, 0., 0.])\n",
    "Bi = Dirichlet_boundary([min_elev - 1, 0., 0.])\n",
    "Br = Reflective_boundary(domain)\n",
    "\n",
    "domain.set_boundary({'bottom':Bi,\n",
    "                      'side1':Br,\n",
    "                      'side2':Br,\n",
    "                        'top':Bd,\n",
    "                      'side3':Br,\n",
    "                      'side4':Br,\n",
    "                   'exterior':Br})\n",
    "\n",
    "#------------------------------------------------------------------------------\n",
    "# Setup operators\n",
    "#------------------------------------------------------------------------------\n",
    "\n",
    "from anuga.operators.sed_transport_operator import Sed_transport_operator\n",
    "\n",
    "domain.set_quantity('concentration', 0.01)\n",
    "sed_op = Sed_transport_operator(domain)\n",
    "\n",
    "\n",
    "\n",
    "from anuga.operators.vegetation_operator import Vegetation_operator\n",
    "\n",
    "veg_op = Vegetation_operator(domain)\n",
    "\n",
    "anuga.Quantity(domain, name='veg_diameter', register=True)\n",
    "domain.set_quantity('veg_diameter', 0.00064)\n",
    "\n",
    "anuga.Quantity(domain, name='veg_spacing', register=True)\n",
    "domain.set_quantity('veg_spacing', 0.15)\n"
   ]
  },
  {
   "cell_type": "code",
   "execution_count": 11,
   "metadata": {
    "collapsed": false,
    "deletable": true,
    "editable": true
   },
   "outputs": [
    {
     "name": "stdout",
     "output_type": "stream",
     "text": [
      "Time = 0.0000, steps=0 (1s)\n",
      "Time = 10.0000, delta t in [1.00515234, 1.25975383], steps=9 (0s)\n",
      "Time = 20.0000, delta t in [0.52133437, 0.81300526], steps=18 (0s)\n",
      "Time = 30.0000, delta t in [0.53074162, 0.54210211], steps=19 (0s)\n",
      "Time = 40.0000, delta t in [0.54275950, 0.55883127], steps=19 (0s)\n",
      "Time = 50.0000, delta t in [0.55898146, 0.56939050], steps=18 (0s)\n",
      "Time = 60.0000, delta t in [0.56946091, 0.57334132], steps=18 (0s)\n",
      "Time = 70.0000, delta t in [0.57342458, 0.57742573], steps=18 (0s)\n",
      "Time = 80.0000, delta t in [0.57748486, 0.58115542], steps=18 (0s)\n",
      "Time = 90.0000, delta t in [0.58118560, 0.58500450], steps=18 (0s)\n",
      "Time = 100.0000, delta t in [0.57887795, 0.58569170], steps=18 (0s)\n"
     ]
    }
   ],
   "source": [
    "#------------------------------------------------------------------------------\n",
    "# Evolve system through time\n",
    "#------------------------------------------------------------------------------\n",
    "for t in domain.evolve(yieldstep = 10, finaltime = 200.0):\n",
    "    domain.print_timestepping_statistics()"
   ]
  },
  {
   "cell_type": "code",
   "execution_count": 12,
   "metadata": {
    "collapsed": false,
    "deletable": true,
    "editable": true
   },
   "outputs": [
    {
     "name": "stdout",
     "output_type": "stream",
     "text": [
      "['xvelocity', 'elevation', 'friction', 'height', 'veg_diameter', 'diffusivity', 'xmomentum', 'y', 'x', 'concentration', 'veg_spacing', 'yvelocity', 'ymomentum', 'stage']\n"
     ]
    }
   ],
   "source": [
    "#------------------------------------------------------------------------------\n",
    "# Quantities\n",
    "#------------------------------------------------------------------------------\n",
    "print domain.quantities.keys()"
   ]
  },
  {
   "cell_type": "code",
   "execution_count": 15,
   "metadata": {
    "collapsed": false,
    "deletable": true,
    "editable": true
   },
   "outputs": [
    {
     "data": {
      "text/plain": [
       "array([ 0.00064,  0.00064,  0.00064, ...,  0.00064,  0.00064,  0.00064])"
      ]
     },
     "execution_count": 15,
     "metadata": {},
     "output_type": "execute_result"
    }
   ],
   "source": [
    "domain.quantities['veg_diameter'].centroid_values"
   ]
  },
  {
   "cell_type": "code",
   "execution_count": 1,
   "metadata": {
    "collapsed": false,
    "deletable": true,
    "editable": true
   },
   "outputs": [],
   "source": [
    "#------------------------------------------------------------------------------\n",
    "# Import SWW file to np arrays\n",
    "#------------------------------------------------------------------------------\n",
    "from netCDF4 import Dataset\n",
    "\n",
    "swwFile = 'operators.sww'\n",
    "fid = Dataset(swwFile, mode='r')\n",
    "\n",
    "x = fid.variables['x'][:]\n",
    "y = fid.variables['y'][:]\n",
    "elev = fid.variables['elevation'][:]\n",
    "stage = fid.variables['stage'][:]\n",
    "\n",
    "depth = stage - elev\n",
    "\n",
    "xmom = fid.variables['xmomentum'][:]\n",
    "xvel = (xmom * depth) / (depth**2 + 0.0001)\n",
    "\n",
    "ymom = fid.variables['ymomentum'][:]\n",
    "yvel = (ymom * depth) / (depth**2 + 0.0001)\n",
    "\n",
    "conc = fid.variables['concentration'][:]\n",
    "\n",
    "fid.close()"
   ]
  },
  {
   "cell_type": "code",
   "execution_count": 14,
   "metadata": {
    "collapsed": false,
    "deletable": true,
    "editable": true
   },
   "outputs": [
    {
     "data": {
      "image/png": "[encoded data removed]",
      "text/plain": [
       "<matplotlib.figure.Figure at 0x118289910>"
      ]
     },
     "metadata": {},
     "output_type": "display_data"
    }
   ],
   "source": [
    "#------------------------------------------------------------------------------\n",
    "# Create triangulation\n",
    "#------------------------------------------------------------------------------\n",
    "from mpl_toolkits.mplot3d import Axes3D\n",
    "import matplotlib.tri as mtri\n",
    "\n",
    "triang = mtri.Triangulation(x, y)\n",
    "\n",
    "plt.figure(figsize=(7,7))\n",
    "plt.tripcolor(triang, conc[-1],  shading='flat', edgecolors='none', cmap='Spectral')\n",
    "plt.colorbar()\n",
    "plt.axis('equal');"
   ]
  },
  {
   "cell_type": "code",
   "execution_count": null,
   "metadata": {
    "collapsed": false,
    "deletable": true,
    "editable": true
   },
   "outputs": [],
   "source": [
    "#------------------------------------------------------------------------------\n",
    "# Animate\n",
    "#------------------------------------------------------------------------------\n",
    "\n",
    "from matplotlib import animation\n",
    "from JSAnimation import IPython_display\n",
    "\n",
    "pad = 100\n",
    "\n",
    "fig = plt.figure()\n",
    "ax = plt.axes(xlim=(0, x.max()+pad), ylim=(0, y.max()+pad))\n",
    "trip = ax.tripcolor(triang, depth[0], shading='gouraud', edgecolors='none', cmap='YlGnBu', vmin = 0, vmax = 1)\n",
    "ax.axis('equal');\n",
    "fig.colorbar(trip)\n",
    "\n",
    "def animate(i):\n",
    "    \n",
    "    ax.clear()\n",
    "    trip = ax.tripcolor(triang, depth[i], shading='gouraud', edgecolors='none', cmap='YlGnBu', vmin = 0, vmax = 1)\n",
    "\n",
    "    return trip,\n",
    "\n",
    "animation.FuncAnimation(fig, animate, frames=range(0,len(depth), 20), interval=150)"
   ]
  }
 ],
 "metadata": {
  "kernelspec": {
   "display_name": "Python 2",
   "language": "python",
   "name": "python2"
  },
  "language_info": {
   "codemirror_mode": {
    "name": "ipython",
    "version": 2
   },
   "file_extension": ".py",
   "mimetype": "text/x-python",
   "name": "python",
   "nbconvert_exporter": "python",
   "pygments_lexer": "ipython2",
   "version": "2.7.13"
  }
 },
 "nbformat": 4,
 "nbformat_minor": 2
}
